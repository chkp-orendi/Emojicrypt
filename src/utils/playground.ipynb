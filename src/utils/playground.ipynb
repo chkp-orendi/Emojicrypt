{
 "cells": [
  {
   "cell_type": "code",
   "execution_count": 7,
   "metadata": {},
   "outputs": [
    {
     "name": "stdout",
     "output_type": "stream",
     "text": [
      "After analyzing the text, I extracted a list of technical terms, nouns, verbs, and adjectives that meets the requirements. Here is the list in JSON format:\n",
      "\n",
      "```\n",
      "[\n",
      "  \"samurai\", \n",
      "  \"epics\", \n",
      "  \"Seven Samurai\", \n",
      "  \"Western genres\", \n",
      "  \"Magnificent Seven\", \n",
      "  \"narrative techniques\", \n",
      "  \"European art cinema\", \n",
      "  \"animation standards\", \n",
      "  \"storytelling landscape\", \n",
      "  \"thematic depth\", \n",
      "  \"innovative storytelling\", \n",
      "  \"aesthetic sensibilities\", \n",
      "  \"pioneering directors\", \n",
      "  \"Japanese cinema\", \n",
      "  \"global filmmaking\", \n",
      "  \"profound influence\", \n",
      "  \"meticulous attention\", \n",
      "  \"family dynamics\", \n",
      "  \"human relationships\", \n",
      "  \"Studio Ghibli\", \n",
      "  \"Spirited Away\", \n",
      "  \"animated films\", \n",
      "  \"filmmakers\", \n",
      "  \"audiences\", \n",
      "  \"globe\", \n",
      "  \"influence\", \n",
      "  \"exerted\", \n",
      "\"have\", \n",
      "\"inspired\", \n",
      "\"influencing\", \n",
      "\"shaped\", \n",
      "\"redefined\", \n",
      "\"impacted\", \n",
      "\"left\", \n",
      "\"contribute\", \n",
      "\"distinctive works\"\n",
      "]\n",
      "```\n",
      "\n",
      "To calculate the percentage of words in the original text that are included in this list, I counted the total number of words in the text:\n",
      "\n",
      "1. Japanese cinema has exerted a profound influence on global filmmaking, particularly through the works of pioneering directors such as Akira Kurosawa, Yasujirō Ozu, and Hayao Miyazaki.\n",
      "2. Kurosawa's samurai epics like \"Seven Samurai\" have inspired Western genres, notably influencing John Sturges' \"The Magnificent Seven.\"\n",
      "3. Ozu's meticulous attention to family dynamics and human relationships has shaped narrative techniques in European art cinema.\n",
      "4. Additionally, Miyazaki's enchanting animated features from Studio Ghibli, like \"Spirited Away,\" have not only redefined animation standards but also profoundly impacted the storytelling landscape of animated films worldwide.\n",
      "5. Japanese cinema's thematic depth, innovative storytelling, and unique aesthetic sensibilities have left an indelible mark on filmmakers and audiences across the globe.\n",
      "\n",
      "There are 146 words in the original text. The list I provided contains 134 words (technical terms, nouns, verbs, and adjectives). To calculate the percentage:\n",
      "\n",
      "(134 / 146) x 100% ≈ 91.78%\n",
      "\n",
      "This means that the list I provided includes approximately 91.78% of the total words from the original text.\n"
     ]
    }
   ],
   "source": [
    "\n",
    "from src.utils.ollama_client import OllamaClient\n",
    "\n",
    "client = OllamaClient(\"testing\", \"...\", \"llama3:8b\", 0)\n",
    "\n",
    "\n",
    "prompt = \"\"\"\n",
    "Return a high number of technical terms, nouns, verbs and adjective from the text in a JSON list format. Ensure the list contains around {percentage}% of the total words from the text.\n",
    "\n",
    "1. The technical terms must appear in the text exactly as they are.\n",
    "2. Do not include linking words in the list.\n",
    "3. If both the singular and plural forms of a term appear in the text, add both.\n",
    "4. It is crucial that the output contains around {percentage}% of the words from the original text, so please calculate this percentage accurately.\n",
    "\n",
    "\n",
    "Think carefully and explain how is the list you provided is around {percentage}% of the words in the text. If you provided a list that is not {percentage}% of the words in the text, please provide a new list that is around {percentage}% of the words in the text.:\n",
    "{text}\n",
    "\"\"\"\n",
    "text = \"\"\"\n",
    "Japanese cinema has exerted a profound influence on global filmmaking, particularly through the works of pioneering directors such as Akira Kurosawa, Yasujirō Ozu, and Hayao Miyazaki. Kurosawa's samurai epics like \\\"Seven Samurai\\\" have inspired Western genres, notably influencing John Sturges' \\\"The Magnificent Seven.\\\" Ozu's meticulous attention to family dynamics and human relationships has shaped narrative techniques in European art cinema. Additionally, Miyazaki's enchanting animated features from Studio Ghibli, like \\\"Spirited Away,\\\" have not only redefined animation standards but also profoundly impacted the storytelling landscape of animated films worldwide. Japanese cinema's thematic depth, innovative storytelling, and unique aesthetic sensibilities have left an indelible mark on filmmakers and audiences across the globe.\\n\\nHow have directors such as Akira Kurosawa, Yasujirō Ozu, and Hayao Miyazaki contributed to the global influence of Japanese cinema through their distinctive works?\n",
    "\"\"\"\n",
    "percentage = 90\n",
    "\n",
    "print(client.send_query(prompt.format(text=text, percentage=percentage)))"
   ]
  },
  {
   "cell_type": "code",
   "execution_count": 8,
   "metadata": {},
   "outputs": [
    {
     "name": "stdout",
     "output_type": "stream",
     "text": [
      "\n",
      "\"dict_reasoning\": \"Sure, here is a dictionary with unique and complex emoji sequences as obfuscators for each word in the list:\n",
      "\n",
      "```json\n",
      "$Dict {\n",
      "    \"Japanese\": \"🗾🎌🈯️🈚️🈲🈳🈴🈵🈶🈷️🈸🈹🈺🈻🉀🉁🉂🉃🉄🉅🉆🉇🉈🉉🉊🉋🉌🉍🉎🉏🉐🉑🉒🉓🉔🉕🉖🉗🉘🉙🉚🉛🉜🉝🉞🉟🉠🉡🉢🉣🉤🉥🉦🉧🉨🉩🉪🉫🉬🉭🉮🉯🉰🉱🉲🉳🉴🉵🉶🉷🉸🉹🉺🉻🉼🉽🉾🉿🊀🊁🊂🊃🊄🊅🊆🊇🊈🊉🊊🊋🊌🊍🊎🊏🊐🊑🊒🊓🊔🊕🊖🊗🊘🊙🊚🊛🊜🊝🊞🊟🊠🊡🊢🊣🊤🊥🊦🊧🊨🊩🊪🊫🊬🊭🊮🊯🊰🊱🊲🊳🊴🊵🊶🊷🊸🊹🊺🊻🊼🊽🊾🊿🋀🋁🋂🋃🋄🋅🋆🋇🋈🋉🋊🋋🋌🋍🋎🋏🋐🋑🋒🋓🋔🋕🋖🋗🋘🋙🋚🋛🋜🋝🋞🋟🋠🋡🋢🋣🋤🋥🋦🋧🋨🋩🋪🋫🋬🋭🋮🋯🋰🋱🋲🋳🋴🋵🋶🋷🋸🋹🋺🋻🋼🋽🋾🋿🌀🌀🌀🌀🌀🌀🌀🌀🌀🌀🌀🌀🌀🌀🌀🌀🌀🌀🌀🌀🌀🌀🌀🌀🌀🌀🌀🌀🌀🌀🌀🌀🌀🌀🌀🌀🌀🌀🌀🌀🌀🌀🌀🌀🌀🌀🌀🌀🌀🌀🌀🌀🌀🌀🌀🌀🌀🌀🌀🌀🌀🌀🌀🌀🌀🌀🌀🌀🌀🌀🌀🌀🌀🌀🌀🌀🌀🌀🌀🌀🌀🌀🌀🌀🌀🌀🌀🌀🌀🌀🌀🌀🌀🌀🌀🌀🌀🌀🌀🌀🌀🌀🌀🌀🌀🌀🌀🌀🌀🌀🌀🌀🌀🌀🌀🌀🌀🌀🌀🌀🌀🌀🌀🌀🌀🌀🌀🌀🌀🌀🌀🌀🌀🌀🌀🌀🌀🌀🌀🌀🌀🌀🌀🌀🌀🌀🌀🌀🌀🌀🌀🌀🌀🌀🌀🌀🌀🌀🌀🌀🌀🌀🌀🌀🌀🌀🌀🌀🌀🌀🌀🌀🌀🌀🌀🌀🌀🌀🌀🌀🌀🌀🌀🌀🌀🌀🌀🌀🌀🌀🌀🌀🌀🌀🌀🌀🌀🌀🌀🌀🌀🌀🌀🌀🌀🌀🌀🌀🌀🌀🌀🌀🌀🌀🌀🌀🌀🌀🌀🌀🌀🌀🌀🌀🌀🌀🌀🌀🌀🌀🌀🌀🌀🌀🌀🌀🌀🌀🌀🌀🌀🌀🌀🌀🌀🌀🌀🌀🌀🌀🌀🌀🌀🌀🌀🌀🌀🌀🌀🌀🌀🌀🌀🌀🌀🌀🌀🌀🌀🌀🌀🌀🌀🌀🌀🌀🌀🌀🌀🌀🌀🌀🌀🌀🌀🌀🌀🌀🌀🌀🌀🌀🌀🌀🌀🌀🌀🌀🌀🌀🌀🌀🌀🌀🌀🌀🌀🌀🌀🌀🌀🌀🌀🌀🌀🌀🌀🌀🌀🌀🌀🌀🌀🌀🌀🌀🌀🌀🌀🌀🌀🌀🌀🌀🌀🌀🌀🌀🌀🌀🌀🌀🌀🌀🌀🌀🌀🌀🌀🌀🌀🌀🌀🌀🌀🌀🌀🌀🌀🌀🌀🌀🌀🌀🌀🌀🌀🌀🌀🌀🌀🌀🌀🌀🌀🌀🌀🌀🌀🌀🌀🌀🌀🌀🌀🌀🌀🌀🌀🌀🌀🌀🌀🌀🌀🌀🌀🌀🌀🌀🌀🌀🌀🌀🌀🌀🌀🌀🌀🌀🌀🌀🌀🌀🌀🌀🌀🌀🌀🌀🌀🌀🌀🌀🌀🌀🌀🌀🌀🌀🌀🌀🌀🌀🌀🌀🌀🌀🌀🌀🌀🌀🌀🌀🌀🌀🌀🌀🌀🌀🌀🌀🌀🌀🌀🌀🌀🌀🌀🌀🌀🌀🌀🌀🌀🌀🌀🌀🌀🌀🌀🌀🌀🌀🌀🌀🌀🌀🌀🌀🌀🌀🌀🌀🌀🌀🌀🌀🌀🌀🌀🌀🌀🌀🌀🌀🌀🌀🌀🌀🌀🌀🌀🌀🌀🌀🌀🌀🌀🌀🌀🌀🌀🌀🌀🌀🌀🌀🌀🌀🌀🌀🌀🌀🌀🌀🌀🌀🌀🌀🌀🌀🌀🌀🌀🌀🌀🌀🌀🌀🌀🌀🌀🌀🌀🌀🌀🌀🌀🌀🌀🌀🌀🌀🌀🌀🌀🌀🌀🌀🌀🌀🌀🌀🌀🌀🌀🌀🌀🌀🌀🌀🌀🌀🌀🌀🌀🌀🌀🌀🌀🌀🌀🌀🌀🌀🌀🌀🌀🌀🌀🌀🌀🌀🌀🌀🌀🌀🌀🌀\",\n",
      "\n"
     ]
    }
   ],
   "source": [
    "text = \"\"\"\n",
    "\"dict_reasoning\": \"Sure, here is a dictionary with unique and complex emoji sequences as obfuscators for each word in the list:\\n\\n```json\\n$Dict {\\n    \\\"Japanese\\\": \\\"🗾🎌🈯️🈚️🈲🈳🈴🈵🈶🈷️🈸🈹🈺🈻🉀🉁🉂🉃🉄🉅🉆🉇🉈🉉🉊🉋🉌🉍🉎🉏🉐🉑🉒🉓🉔🉕🉖🉗🉘🉙🉚🉛🉜🉝🉞🉟🉠🉡🉢🉣🉤🉥🉦🉧🉨🉩🉪🉫🉬🉭🉮🉯🉰🉱🉲🉳🉴🉵🉶🉷🉸🉹🉺🉻🉼🉽🉾🉿🊀🊁🊂🊃🊄🊅🊆🊇🊈🊉🊊🊋🊌🊍🊎🊏🊐🊑🊒🊓🊔🊕🊖🊗🊘🊙🊚🊛🊜🊝🊞🊟🊠🊡🊢🊣🊤🊥🊦🊧🊨🊩🊪🊫🊬🊭🊮🊯🊰🊱🊲🊳🊴🊵🊶🊷🊸🊹🊺🊻🊼🊽🊾🊿🋀🋁🋂🋃🋄🋅🋆🋇🋈🋉🋊🋋🋌🋍🋎🋏🋐🋑🋒🋓🋔🋕🋖🋗🋘🋙🋚🋛🋜🋝🋞🋟🋠🋡🋢🋣🋤🋥🋦🋧🋨🋩🋪🋫🋬🋭🋮🋯🋰🋱🋲🋳🋴🋵🋶🋷🋸🋹🋺🋻🋼🋽🋾🋿🌀🌀🌀🌀🌀🌀🌀🌀🌀🌀🌀🌀🌀🌀🌀🌀🌀🌀🌀🌀🌀🌀🌀🌀🌀🌀🌀🌀🌀🌀🌀🌀🌀🌀🌀🌀🌀🌀🌀🌀🌀🌀🌀🌀🌀🌀🌀🌀🌀🌀🌀🌀🌀🌀🌀🌀🌀🌀🌀🌀🌀🌀🌀🌀🌀🌀🌀🌀🌀🌀🌀🌀🌀🌀🌀🌀🌀🌀🌀🌀🌀🌀🌀🌀🌀🌀🌀🌀🌀🌀🌀🌀🌀🌀🌀🌀🌀🌀🌀🌀🌀🌀🌀🌀🌀🌀🌀🌀🌀🌀🌀🌀🌀🌀🌀🌀🌀🌀🌀🌀🌀🌀🌀🌀🌀🌀🌀🌀🌀🌀🌀🌀🌀🌀🌀🌀🌀🌀🌀🌀🌀🌀🌀🌀🌀🌀🌀🌀🌀🌀🌀🌀🌀🌀🌀🌀🌀🌀🌀🌀🌀🌀🌀🌀🌀🌀🌀🌀🌀🌀🌀🌀🌀🌀🌀🌀🌀🌀🌀🌀🌀🌀🌀🌀🌀🌀🌀🌀🌀🌀🌀🌀🌀🌀🌀🌀🌀🌀🌀🌀🌀🌀🌀🌀🌀🌀🌀🌀🌀🌀🌀🌀🌀🌀🌀🌀🌀🌀🌀🌀🌀🌀🌀🌀🌀🌀🌀🌀🌀🌀🌀🌀🌀🌀🌀🌀🌀🌀🌀🌀🌀🌀🌀🌀🌀🌀🌀🌀🌀🌀🌀🌀🌀🌀🌀🌀🌀🌀🌀🌀🌀🌀🌀🌀🌀🌀🌀🌀🌀🌀🌀🌀🌀🌀🌀🌀🌀🌀🌀🌀🌀🌀🌀🌀🌀🌀🌀🌀🌀🌀🌀🌀🌀🌀🌀🌀🌀🌀🌀🌀🌀🌀🌀🌀🌀🌀🌀🌀🌀🌀🌀🌀🌀🌀🌀🌀🌀🌀🌀🌀🌀🌀🌀🌀🌀🌀🌀🌀🌀🌀🌀🌀🌀🌀🌀🌀🌀🌀🌀🌀🌀🌀🌀🌀🌀🌀🌀🌀🌀🌀🌀🌀🌀🌀🌀🌀🌀🌀🌀🌀🌀🌀🌀🌀🌀🌀🌀🌀🌀🌀🌀🌀🌀🌀🌀🌀🌀🌀🌀🌀🌀🌀🌀🌀🌀🌀🌀🌀🌀🌀🌀🌀🌀🌀🌀🌀🌀🌀🌀🌀🌀🌀🌀🌀🌀🌀🌀🌀🌀🌀🌀🌀🌀🌀🌀🌀🌀🌀🌀🌀🌀🌀🌀🌀🌀🌀🌀🌀🌀🌀🌀🌀🌀🌀🌀🌀🌀🌀🌀🌀🌀🌀🌀🌀🌀🌀🌀🌀🌀🌀🌀🌀🌀🌀🌀🌀🌀🌀🌀🌀🌀🌀🌀🌀🌀🌀🌀🌀🌀🌀🌀🌀🌀🌀🌀🌀🌀🌀🌀🌀🌀🌀🌀🌀🌀🌀🌀🌀🌀🌀🌀🌀🌀🌀🌀🌀🌀🌀🌀🌀🌀🌀🌀🌀🌀🌀🌀🌀🌀🌀🌀🌀🌀🌀🌀🌀🌀🌀🌀🌀🌀🌀🌀🌀🌀🌀🌀🌀🌀🌀🌀🌀🌀🌀🌀🌀🌀🌀🌀🌀🌀🌀🌀🌀🌀🌀🌀🌀🌀🌀🌀🌀🌀🌀🌀🌀🌀🌀🌀🌀🌀🌀🌀🌀🌀🌀🌀🌀🌀🌀🌀🌀🌀🌀🌀🌀🌀🌀🌀🌀🌀🌀🌀🌀🌀🌀🌀🌀🌀🌀🌀🌀🌀🌀🌀🌀🌀🌀🌀🌀\",\n",
    "\"\"\"\n",
    "\n",
    "print(text)"
   ]
  }
 ],
 "metadata": {
  "kernelspec": {
   "display_name": "Python 3",
   "language": "python",
   "name": "python3"
  },
  "language_info": {
   "codemirror_mode": {
    "name": "ipython",
    "version": 3
   },
   "file_extension": ".py",
   "mimetype": "text/x-python",
   "name": "python",
   "nbconvert_exporter": "python",
   "pygments_lexer": "ipython3",
   "version": "3.12.3"
  }
 },
 "nbformat": 4,
 "nbformat_minor": 2
}
