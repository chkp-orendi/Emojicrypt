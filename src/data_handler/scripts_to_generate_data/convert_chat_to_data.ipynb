{
 "cells": [
  {
   "cell_type": "code",
   "execution_count": 1,
   "metadata": {},
   "outputs": [],
   "source": [
    "import json\n",
    "import os\n",
    "import sys\n",
    "from dotenv import load_dotenv \n",
    "\n",
    "load_dotenv()\n",
    "sys.path.append(os.getenv(\"PROJECT_PATH\"))\n",
    "\n",
    "from src.utils.string_utils import extract_context, extract_question\n"
   ]
  },
  {
   "cell_type": "code",
   "execution_count": 8,
   "metadata": {},
   "outputs": [],
   "source": [
    "from src.utils.azure_client import get_answer\n",
    "\n",
    "input_path = os.path.join(os.getenv(\"PROJECT_PATH\"),\"data\", \"20-08-2024\", \"Context_Answer_different_topics_12_01.json\")\n",
    "output_path = os.path.join(os.getenv(\"PROJECT_PATH\"),\"data\", \"20-08-2024\", \"Context_And_Answer_data.json\")\n",
    "\n",
    "with open(input_path, \"r\") as f:\n",
    "    data = json.load(f)\n",
    "\n",
    "new_data = []\n",
    "\n",
    "\n",
    "for messages in data:\n",
    "    messages = messages[0]\n",
    "    if messages['role'] != \"assistant\":\n",
    "        continue\n",
    "    context = extract_context(messages[\"content\"])\n",
    "    question = extract_question(messages[\"content\"])\n",
    "    if context == None or question == None:\n",
    "        continue\n",
    "    prompt = \"Context: \" + context + \"\\nQuestion: \" + question\n",
    "    answer = get_answer(prompt)\n",
    "    new_data.append({\"original_prompt\": prompt,\n",
    "                     \"original_answer\": answer\n",
    "                     })\n",
    "with open(output_path, \"w\") as f:\n",
    "    json.dump(new_data, f, indent=4)"
   ]
  },
  {
   "cell_type": "code",
   "execution_count": 6,
   "metadata": {},
   "outputs": [
    {
     "name": "stdout",
     "output_type": "stream",
     "text": [
      "something ['a', 'b']\n"
     ]
    }
   ],
   "source": [
    "lst = [\"a\", \"b\"]\n",
    "text = \"something {lst}\".format(lst=lst)\n",
    "print(text)"
   ]
  },
  {
   "cell_type": "code",
   "execution_count": 20,
   "metadata": {},
   "outputs": [],
   "source": [
    "from src.utils.answer_extraction import extract_context, extract_question"
   ]
  },
  {
   "cell_type": "code",
   "execution_count": 21,
   "metadata": {},
   "outputs": [
    {
     "ename": "TypeError",
     "evalue": "expected string or bytes-like object, got 'tuple'",
     "output_type": "error",
     "traceback": [
      "\u001b[1;31m---------------------------------------------------------------------------\u001b[0m",
      "\u001b[1;31mTypeError\u001b[0m                                 Traceback (most recent call last)",
      "Cell \u001b[1;32mIn[21], line 3\u001b[0m\n\u001b[0;32m      1\u001b[0m original_answer \u001b[38;5;241m=\u001b[39m \u001b[38;5;124m\"\u001b[39m\u001b[38;5;124mIntegrating IoT and AI technologies with existing Manufacturing Execution Systems (MES) and Enterprise Resource Planning (ERP) software in a project like Toyota\u001b[39m\u001b[38;5;124m'\u001b[39m\u001b[38;5;124ms TPS 4.0 requires meticulous planning and execution. Here are some best practices to ensure seamless operation, data security, and compliance with global manufacturing standards:\u001b[39m\u001b[38;5;130;01m\\n\u001b[39;00m\u001b[38;5;130;01m\\n\u001b[39;00m\u001b[38;5;124m### 1. **Comprehensive Planning and Assessment**\u001b[39m\u001b[38;5;130;01m\\n\u001b[39;00m\u001b[38;5;124m- **Needs Assessment:** Conduct a thorough needs assessment to understand the specific requirements of the integration. Identify the key performance indicators (KPIs) and objectives for the integration.\u001b[39m\u001b[38;5;130;01m\\n\u001b[39;00m\u001b[38;5;124m- **Gap Analysis:** Perform a gap analysis to identify the differences between the current state and the desired state of the systems.\u001b[39m\u001b[38;5;130;01m\\n\u001b[39;00m\u001b[38;5;130;01m\\n\u001b[39;00m\u001b[38;5;124m### 2. **Standardized Communication Protocols**\u001b[39m\u001b[38;5;130;01m\\n\u001b[39;00m\u001b[38;5;124m- **Interoperability:** Use standardized communication protocols (e.g., OPC UA, MQTT) to ensure interoperability between IoT devices, AI systems, MES, and ERP software.\u001b[39m\u001b[38;5;130;01m\\n\u001b[39;00m\u001b[38;5;124m- **APIs and Middleware:** Develop robust APIs and middleware solutions to facilitate seamless data exchange between different systems.\u001b[39m\u001b[38;5;130;01m\\n\u001b[39;00m\u001b[38;5;130;01m\\n\u001b[39;00m\u001b[38;5;124m### 3. **Data Management and Analytics**\u001b[39m\u001b[38;5;130;01m\\n\u001b[39;00m\u001b[38;5;124m- **Data Integration:** Implement data integration tools to consolidate data from IoT sensors, MES, and ERP systems into a unified data platform.\u001b[39m\u001b[38;5;130;01m\\n\u001b[39;00m\u001b[38;5;124m- **Real-time Analytics:** Utilize real-time analytics to process and analyze data on-the-fly, enabling timely decision-making and predictive maintenance.\u001b[39m\u001b[38;5;130;01m\\n\u001b[39;00m\u001b[38;5;130;01m\\n\u001b[39;00m\u001b[38;5;124m### 4. **Cybersecurity Measures**\u001b[39m\u001b[38;5;130;01m\\n\u001b[39;00m\u001b[38;5;124m- **Data Encryption:** Ensure that all data transmitted between IoT devices, MES, and ERP systems is encrypted to protect against unauthorized access.\u001b[39m\u001b[38;5;130;01m\\n\u001b[39;00m\u001b[38;5;124m- **Access Control:** Implement strict access control measures, including multi-factor authentication and role-based access control, to safeguard sensitive information.\u001b[39m\u001b[38;5;130;01m\\n\u001b[39;00m\u001b[38;5;124m- **Regular Audits:** Conduct regular security audits and vulnerability assessments to identify and mitigate potential security risks.\u001b[39m\u001b[38;5;130;01m\\n\u001b[39;00m\u001b[38;5;130;01m\\n\u001b[39;00m\u001b[38;5;124m### 5. **Compliance with Global Standards**\u001b[39m\u001b[38;5;130;01m\\n\u001b[39;00m\u001b[38;5;124m- **Regulatory Compliance:** Ensure that the integration complies with relevant global manufacturing standards and regulations (e.g., ISO 9001, ISO/IEC 27001).\u001b[39m\u001b[38;5;130;01m\\n\u001b[39;00m\u001b[38;5;124m- **Documentation:** Maintain comprehensive documentation of all processes, configurations, and changes to ensure traceability and compliance.\u001b[39m\u001b[38;5;130;01m\\n\u001b[39;00m\u001b[38;5;130;01m\\n\u001b[39;00m\u001b[38;5;124m### 6. **Scalability and Flexibility**\u001b[39m\u001b[38;5;130;01m\\n\u001b[39;00m\u001b[38;5;124m- **Modular Architecture:** Design the integration with a modular architecture to allow for scalability and flexibility. This enables the system to adapt to future technological advancements and business needs.\u001b[39m\u001b[38;5;130;01m\\n\u001b[39;00m\u001b[38;5;124m- **Cloud Integration:** Consider leveraging cloud-based solutions for scalability, data storage, and advanced analytics capabilities.\u001b[39m\u001b[38;5;130;01m\\n\u001b[39;00m\u001b[38;5;130;01m\\n\u001b[39;00m\u001b[38;5;124m### 7. **Collaboration and Training**\u001b[39m\u001b[38;5;130;01m\\n\u001b[39;00m\u001b[38;5;124m- **Cross-functional Teams:** Foster collaboration\u001b[39m\u001b[38;5;124m\"\u001b[39m,\n\u001b[0;32m      2\u001b[0m original_prompt \u001b[38;5;241m=\u001b[39m \u001b[38;5;124m\"\u001b[39m\u001b[38;5;124mContext: In 2018, automotive giant Toyota embarked on an ambitious project called \u001b[39m\u001b[38;5;130;01m\\\"\u001b[39;00m\u001b[38;5;124mToyota Production System (TPS) 4.0\u001b[39m\u001b[38;5;130;01m\\\"\u001b[39;00m\u001b[38;5;124m to digitalize its manufacturing processes. The goal was to enhance efficiency, reduce costs, and improve product quality by leveraging advanced technologies such as IoT, AI, and big data analytics. The project involved installing IoT sensors across multiple manufacturing plants to collect data on machine performance, production output, and equipment health. This data was then analyzed using AI algorithms to predict maintenance needs, optimize production schedules, and ensure quality control. Integration of this new system with Toyota’s existing manufacturing execution systems (MES) and enterprise resource planning (ERP) software was one of the significant challenges. Ensuring cybersecurity for the vast amount of data being generated and aligning with global manufacturing standards were also critical considerations. TPS 4.0 was managed by Toyota\u001b[39m\u001b[38;5;124m'\u001b[39m\u001b[38;5;124ms Chief Digital Officer, Fumiko Kondo, and required extensive collaboration between IT professionals, production engineers, and external technology vendors.\u001b[39m\u001b[38;5;130;01m\\n\u001b[39;00m\u001b[38;5;124mQuestion: What are the best practices for integrating IoT and AI technologies with Toyota\u001b[39m\u001b[38;5;124m'\u001b[39m\u001b[38;5;124ms existing manufacturing execution systems (MES) and ERP software to ensure seamless operation, data security, and compliance with global manufacturing standards in the TPS 4.0 project?\u001b[39m\u001b[38;5;124m\"\u001b[39m,\n\u001b[1;32m----> 3\u001b[0m context \u001b[38;5;241m=\u001b[39m \u001b[43mextract_context\u001b[49m\u001b[43m(\u001b[49m\u001b[43moriginal_prompt\u001b[49m\u001b[43m)\u001b[49m\n\u001b[0;32m      4\u001b[0m question \u001b[38;5;241m=\u001b[39m extract_question(original_prompt)\n\u001b[0;32m      5\u001b[0m obfuscated_dictonary \u001b[38;5;241m=\u001b[39m {\n\u001b[0;32m      6\u001b[0m \n\u001b[0;32m      7\u001b[0m                     \u001b[38;5;124m\"\u001b[39m\u001b[38;5;124mToyota Production System (TPS) 4.0\u001b[39m\u001b[38;5;124m\"\u001b[39m: \u001b[38;5;124m\"\u001b[39m\u001b[38;5;124m🚗🔄4️⃣.0️⃣\u001b[39m\u001b[38;5;124m\"\u001b[39m,\n\u001b[1;32m   (...)\u001b[0m\n\u001b[0;32m     34\u001b[0m                     \u001b[38;5;124m\"\u001b[39m\u001b[38;5;124mtechnology vendors\u001b[39m\u001b[38;5;124m\"\u001b[39m: \u001b[38;5;124m\"\u001b[39m\u001b[38;5;124m🛠️🏢\u001b[39m\u001b[38;5;124m\"\u001b[39m\n\u001b[0;32m     35\u001b[0m                 }\n",
      "File \u001b[1;32mc:\\Users\\orendi\\Documents\\EmojiCrypt-main\\Emojicrypt\\src\\utils\\answer_extraction.py:113\u001b[0m, in \u001b[0;36mextract_context\u001b[1;34m(text)\u001b[0m\n\u001b[0;32m    112\u001b[0m \u001b[38;5;28;01mdef\u001b[39;00m \u001b[38;5;21mextract_context\u001b[39m(text):\n\u001b[1;32m--> 113\u001b[0m     match \u001b[38;5;241m=\u001b[39m \u001b[43mre\u001b[49m\u001b[38;5;241;43m.\u001b[39;49m\u001b[43msearch\u001b[49m\u001b[43m(\u001b[49m\u001b[38;5;124;43mr\u001b[39;49m\u001b[38;5;124;43m'\u001b[39;49m\u001b[38;5;124;43mContext:\u001b[39;49m\u001b[38;5;124;43m\\\u001b[39;49m\u001b[38;5;124;43ms*(.*?)(?:\u001b[39;49m\u001b[38;5;124;43m\\\u001b[39;49m\u001b[38;5;124;43mn|\u001b[39;49m\u001b[38;5;124;43m\\\u001b[39;49m\u001b[38;5;124;43mZ)\u001b[39;49m\u001b[38;5;124;43m'\u001b[39;49m\u001b[43m,\u001b[49m\u001b[43m \u001b[49m\u001b[43mtext\u001b[49m\u001b[43m,\u001b[49m\u001b[43m \u001b[49m\u001b[43mre\u001b[49m\u001b[38;5;241;43m.\u001b[39;49m\u001b[43mDOTALL\u001b[49m\u001b[43m)\u001b[49m\n\u001b[0;32m    114\u001b[0m     \u001b[38;5;28;01mif\u001b[39;00m match:\n\u001b[0;32m    115\u001b[0m         \u001b[38;5;28;01mreturn\u001b[39;00m match\u001b[38;5;241m.\u001b[39mgroup(\u001b[38;5;241m1\u001b[39m)\u001b[38;5;241m.\u001b[39mstrip()\n",
      "File \u001b[1;32mc:\\Users\\orendi\\AppData\\Local\\Programs\\Python\\Python312\\Lib\\re\\__init__.py:177\u001b[0m, in \u001b[0;36msearch\u001b[1;34m(pattern, string, flags)\u001b[0m\n\u001b[0;32m    174\u001b[0m \u001b[38;5;28;01mdef\u001b[39;00m \u001b[38;5;21msearch\u001b[39m(pattern, string, flags\u001b[38;5;241m=\u001b[39m\u001b[38;5;241m0\u001b[39m):\n\u001b[0;32m    175\u001b[0m \u001b[38;5;250m    \u001b[39m\u001b[38;5;124;03m\"\"\"Scan through string looking for a match to the pattern, returning\u001b[39;00m\n\u001b[0;32m    176\u001b[0m \u001b[38;5;124;03m    a Match object, or None if no match was found.\"\"\"\u001b[39;00m\n\u001b[1;32m--> 177\u001b[0m     \u001b[38;5;28;01mreturn\u001b[39;00m \u001b[43m_compile\u001b[49m\u001b[43m(\u001b[49m\u001b[43mpattern\u001b[49m\u001b[43m,\u001b[49m\u001b[43m \u001b[49m\u001b[43mflags\u001b[49m\u001b[43m)\u001b[49m\u001b[38;5;241;43m.\u001b[39;49m\u001b[43msearch\u001b[49m\u001b[43m(\u001b[49m\u001b[43mstring\u001b[49m\u001b[43m)\u001b[49m\n",
      "\u001b[1;31mTypeError\u001b[0m: expected string or bytes-like object, got 'tuple'"
     ]
    }
   ],
   "source": [
    "original_answer = \"Integrating IoT and AI technologies with existing Manufacturing Execution Systems (MES) and Enterprise Resource Planning (ERP) software in a project like Toyota's TPS 4.0 requires meticulous planning and execution. Here are some best practices to ensure seamless operation, data security, and compliance with global manufacturing standards:\\n\\n### 1. **Comprehensive Planning and Assessment**\\n- **Needs Assessment:** Conduct a thorough needs assessment to understand the specific requirements of the integration. Identify the key performance indicators (KPIs) and objectives for the integration.\\n- **Gap Analysis:** Perform a gap analysis to identify the differences between the current state and the desired state of the systems.\\n\\n### 2. **Standardized Communication Protocols**\\n- **Interoperability:** Use standardized communication protocols (e.g., OPC UA, MQTT) to ensure interoperability between IoT devices, AI systems, MES, and ERP software.\\n- **APIs and Middleware:** Develop robust APIs and middleware solutions to facilitate seamless data exchange between different systems.\\n\\n### 3. **Data Management and Analytics**\\n- **Data Integration:** Implement data integration tools to consolidate data from IoT sensors, MES, and ERP systems into a unified data platform.\\n- **Real-time Analytics:** Utilize real-time analytics to process and analyze data on-the-fly, enabling timely decision-making and predictive maintenance.\\n\\n### 4. **Cybersecurity Measures**\\n- **Data Encryption:** Ensure that all data transmitted between IoT devices, MES, and ERP systems is encrypted to protect against unauthorized access.\\n- **Access Control:** Implement strict access control measures, including multi-factor authentication and role-based access control, to safeguard sensitive information.\\n- **Regular Audits:** Conduct regular security audits and vulnerability assessments to identify and mitigate potential security risks.\\n\\n### 5. **Compliance with Global Standards**\\n- **Regulatory Compliance:** Ensure that the integration complies with relevant global manufacturing standards and regulations (e.g., ISO 9001, ISO/IEC 27001).\\n- **Documentation:** Maintain comprehensive documentation of all processes, configurations, and changes to ensure traceability and compliance.\\n\\n### 6. **Scalability and Flexibility**\\n- **Modular Architecture:** Design the integration with a modular architecture to allow for scalability and flexibility. This enables the system to adapt to future technological advancements and business needs.\\n- **Cloud Integration:** Consider leveraging cloud-based solutions for scalability, data storage, and advanced analytics capabilities.\\n\\n### 7. **Collaboration and Training**\\n- **Cross-functional Teams:** Foster collaboration\",\n",
    "original_prompt = \"Context: In 2018, automotive giant Toyota embarked on an ambitious project called \\\"Toyota Production System (TPS) 4.0\\\" to digitalize its manufacturing processes. The goal was to enhance efficiency, reduce costs, and improve product quality by leveraging advanced technologies such as IoT, AI, and big data analytics. The project involved installing IoT sensors across multiple manufacturing plants to collect data on machine performance, production output, and equipment health. This data was then analyzed using AI algorithms to predict maintenance needs, optimize production schedules, and ensure quality control. Integration of this new system with Toyota’s existing manufacturing execution systems (MES) and enterprise resource planning (ERP) software was one of the significant challenges. Ensuring cybersecurity for the vast amount of data being generated and aligning with global manufacturing standards were also critical considerations. TPS 4.0 was managed by Toyota's Chief Digital Officer, Fumiko Kondo, and required extensive collaboration between IT professionals, production engineers, and external technology vendors.\\nQuestion: What are the best practices for integrating IoT and AI technologies with Toyota's existing manufacturing execution systems (MES) and ERP software to ensure seamless operation, data security, and compliance with global manufacturing standards in the TPS 4.0 project?\",\n",
    "context = extract_context(original_prompt)\n",
    "question = extract_question(original_prompt)\n",
    "obfuscated_dictonary = {\n",
    "\n",
    "                    \"Toyota Production System (TPS) 4.0\": \"🚗🔄4️⃣.0️⃣\",\n",
    "                    \"digitalize\": \"💻🔄\",\n",
    "                    \"manufacturing processes\": \"🏭🔄\",\n",
    "                    \"efficiency\": \"⚡📈\",\n",
    "                    \"costs\": \"💰📉\",\n",
    "                    \"product quality\": \"📦✅\",\n",
    "                    \"advanced technologies\": \"🚀🔧\",\n",
    "                    \"IoT\": \"🌐📡\",\n",
    "                    \"AI\": \"🤖🧠\",\n",
    "                    \"big data analytics\": \"📊🔍\",\n",
    "                    \"IoT sensors\": \"🌐📡🔍\",\n",
    "                    \"manufacturing plants\": \"🏭🌱\",\n",
    "                    \"machine performance\": \"🛠️📈\",\n",
    "                    \"production output\": \"🏭📦\",\n",
    "                    \"equipment health\": \"🛠️❤️\",\n",
    "                    \"AI algorithms\": \"🤖🔢\",\n",
    "                    \"maintenance needs\": \"🛠️🔧\",\n",
    "                    \"production schedules\": \"🏭📅\",\n",
    "                    \"quality control\": \"✅🔍\",\n",
    "                    \"manufacturing execution systems (MES)\": \"🏭💻\",\n",
    "                    \"enterprise resource planning (ERP) software\": \"🏢📊💻\",\n",
    "                    \"cybersecurity\": \"🔒🌐\",\n",
    "                    \"data\": \"📄\",\n",
    "                    \"global manufacturing standards\": \"🌍🏭✅\",\n",
    "                    \"Chief Digital Officer\": \"👩‍💼💻\",\n",
    "                    \"IT professionals\": \"👨‍💻👩‍💻\",\n",
    "                    \"production engineers\": \"🏭👷‍♂️\",\n",
    "                    \"technology vendors\": \"🛠️🏢\"\n",
    "                }\n",
    "\n",
    "for key, value in obfuscated_dictonary.items():\n",
    "    if key in context and key not in question:\n",
    "        print(key, value)"
   ]
  }
 ],
 "metadata": {
  "kernelspec": {
   "display_name": "Python 3",
   "language": "python",
   "name": "python3"
  },
  "language_info": {
   "codemirror_mode": {
    "name": "ipython",
    "version": 3
   },
   "file_extension": ".py",
   "mimetype": "text/x-python",
   "name": "python",
   "nbconvert_exporter": "python",
   "pygments_lexer": "ipython3",
   "version": "3.12.3"
  }
 },
 "nbformat": 4,
 "nbformat_minor": 2
}
